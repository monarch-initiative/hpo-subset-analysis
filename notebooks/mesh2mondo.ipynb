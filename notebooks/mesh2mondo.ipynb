{
 "cells": [
  {
   "cell_type": "markdown",
   "metadata": {},
   "source": [
    "This is an example script for converting MESH disease identifiers to MONDO ids using the MONDO ontology file\n",
    "\n",
    "In your virtual environment of choice:\n",
    "\n",
    "    pip install rdflib prefixcommons"
   ]
  },
  {
   "cell_type": "code",
   "execution_count": 6,
   "metadata": {},
   "outputs": [
    {
     "name": "stderr",
     "output_type": "stream",
     "text": [
      "INFO:root:loading mondo into memory\n",
      "INFO:root:finished loading mondo\n"
     ]
    }
   ],
   "source": [
    "from prefixcommons import contract_uri, expand_uri\n",
    "from rdflib import Graph, URIRef, OWL, RDFS\n",
    "import logging\n",
    "\n",
    "logging.basicConfig(level=logging.INFO)\n",
    "\n",
    "# First load the mondo owl file into memory, this takes ~ 7 minutes\n",
    "logging.info(\"loading mondo into memory\")\n",
    "\n",
    "mondo = Graph()\n",
    "mondo.parse(\"http://purl.obolibrary.org/obo/mondo.owl\", format='xml')\n",
    "\n",
    "logging.info(\"finished loading mondo\")"
   ]
  },
  {
   "cell_type": "code",
   "execution_count": 21,
   "metadata": {},
   "outputs": [
    {
     "name": "stderr",
     "output_type": "stream",
     "text": [
      "INFO:root:No mondo id for MESH:12345\n"
     ]
    },
    {
     "name": "stdout",
     "output_type": "stream",
     "text": [
      "MESH:D003550\tMONDO:0009061\n",
      "MESH:C537335\tMONDO:0017849\n",
      "MESH:D031249\tMONDO:0018153\n"
     ]
    }
   ],
   "source": [
    "# Example MESH ids\n",
    "mesh_curies = [\n",
    "    'MESH:D003550',\n",
    "    'MESH:C537335',\n",
    "    'MESH:D031249',\n",
    "    'MESH:12345' # Made up ID\n",
    "]\n",
    "\n",
    "for mesh_curie in mesh_curies:\n",
    "    mesh_iri = URIRef(expand_uri(mesh_curie, strict=True))\n",
    "    mondo_curie = None\n",
    "    # Look for equivalent MONDO disease\n",
    "    for subj in mondo.objects(mesh_iri, OWL['equivalentClass']):\n",
    "        curie = contract_uri(str(subj), strict=True)[0]\n",
    "        if curie.startswith('MONDO'):\n",
    "            mondo_curie = curie\n",
    "            mondo_iri = subj\n",
    "            print(\"{}\\t{}\".format(mesh_curie, mondo_curie))\n",
    "    if mondo_curie is None:\n",
    "        logging.info(\"No mondo id for {}\".format(mesh_curie))\n"
   ]
  },
  {
   "cell_type": "code",
   "execution_count": null,
   "metadata": {},
   "outputs": [],
   "source": []
  }
 ],
 "metadata": {
  "kernelspec": {
   "display_name": "Python 3",
   "language": "python",
   "name": "python3"
  },
  "language_info": {
   "codemirror_mode": {
    "name": "ipython",
    "version": 3
   },
   "file_extension": ".py",
   "mimetype": "text/x-python",
   "name": "python",
   "nbconvert_exporter": "python",
   "pygments_lexer": "ipython3",
   "version": "3.7.2"
  }
 },
 "nbformat": 4,
 "nbformat_minor": 2
}
